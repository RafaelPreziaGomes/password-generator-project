{
 "cells": [
  {
   "cell_type": "code",
   "execution_count": 4,
   "id": "866d2f69",
   "metadata": {},
   "outputs": [
    {
     "name": "stdout",
     "output_type": "stream",
     "text": [
      "How many characters do you want?10\n",
      "How many numbers do you want?10\n",
      "How many symbols do you want?10\n",
      "4[R2}4z{8I85]~z'-4h!10Pmi_U)E2\n"
     ]
    }
   ],
   "source": [
    "import random\n",
    "\n",
    "from random import shuffle\n",
    "\n",
    "def shuffle_word(word):\n",
    "    word = list(word)\n",
    "    shuffle(word)\n",
    "    return ''.join(word)\n",
    "\n",
    "alphabet =  ['a', 'b', 'c', 'd', 'e', 'f', 'g', 'h', 'i', 'j', 'k', 'l', 'm', 'n', 'o', 'p', 'q', 'r', 's', 't', 'u', 'v', 'w', 'x', 'y', 'z','A', 'B', 'C', 'D', 'E', 'F', 'G', 'H', 'I', 'J', 'K', 'L', 'M', 'N', 'O', 'P', 'Q', 'R', 'S', 'T', 'U', 'V', 'W', 'X', 'Y', 'Z']\n",
    "\n",
    "numbers_list = [0,1,2,3,4,5,6,7,8,9]\n",
    "\n",
    "symbols = [\"%\",\"+\",\"'\",\"!\",\":\",\".\",\"(\",\")\",\"{\",\"}\",\"[\",\"]\",\"~\",\"-\",\"_\",\".\"]\n",
    "\n",
    "result = \"\"\n",
    "\n",
    "number_of_characters = input(\"How many characters do you want?\")\n",
    "\n",
    "number_of_numbers = input(\"How many numbers do you want?\")\n",
    "\n",
    "number_of_symbols = input(\"How many symbols do you want?\")\n",
    "\n",
    "for n in range(0, int(number_of_characters)):\n",
    "\n",
    "\n",
    "    number = random.random()* 49\n",
    "    \n",
    "    number = round(number)\n",
    "\n",
    "    letter = alphabet[number]\n",
    "    \n",
    "    result = result + letter\n",
    "    \n",
    "for n in range(0, int(number_of_numbers)):\n",
    "\n",
    "    number1 = random.random()* 9\n",
    "    \n",
    "    number1 = round(number1)\n",
    "        \n",
    "    number_assigned = numbers_list[number1]\n",
    "\n",
    "    result = result + str(number_assigned)\n",
    "    \n",
    "for n in range(0, int(number_of_symbols)):\n",
    "    \n",
    "    number2 = random.random()* 14\n",
    "    \n",
    "    number2 = round(number2)\n",
    "\n",
    "    symbol_assigned = symbols[number2]\n",
    "\n",
    "    result = result + str(symbol_assigned)\n",
    "    \n",
    "print(shuffle_word(result))"
   ]
  },
  {
   "cell_type": "code",
   "execution_count": null,
   "id": "512185a5",
   "metadata": {},
   "outputs": [],
   "source": []
  },
  {
   "cell_type": "code",
   "execution_count": null,
   "id": "080e7560",
   "metadata": {},
   "outputs": [],
   "source": []
  }
 ],
 "metadata": {
  "kernelspec": {
   "display_name": "Python 3 (ipykernel)",
   "language": "python",
   "name": "python3"
  },
  "language_info": {
   "codemirror_mode": {
    "name": "ipython",
    "version": 3
   },
   "file_extension": ".py",
   "mimetype": "text/x-python",
   "name": "python",
   "nbconvert_exporter": "python",
   "pygments_lexer": "ipython3",
   "version": "3.9.12"
  }
 },
 "nbformat": 4,
 "nbformat_minor": 5
}
